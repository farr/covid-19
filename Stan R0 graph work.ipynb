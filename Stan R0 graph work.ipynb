{
 "cells": [
  {
   "cell_type": "code",
   "execution_count": null,
   "metadata": {
    "lines_to_next_cell": 0
   },
   "outputs": [],
   "source": [
    "from IPython import get_ipython"
   ]
  },
  {
   "cell_type": "markdown",
   "metadata": {},
   "source": [
    "# Work file for plot"
   ]
  },
  {
   "cell_type": "code",
   "execution_count": null,
   "metadata": {},
   "outputs": [],
   "source": [
    "%config InlineBackend.figure_format = 'retina'\n",
    "%qtconsole"
   ]
  },
  {
   "cell_type": "code",
   "execution_count": null,
   "metadata": {},
   "outputs": [],
   "source": [
    "import arviz as az\n",
    "import datetime\n",
    "import matplotlib.dates as md\n",
    "import os\n",
    "import os.path\n",
    "import pandas as pd\n",
    "import pystan\n",
    "import scipy.stats as ss\n",
    "import seaborn as sns\n",
    "from tqdm import tqdm\n",
    "import numpy as np\n",
    "from matplotlib import pyplot as plt\n",
    "sns.set_context('notebook')\n",
    "sns.set_palette('colorblind')"
   ]
  },
  {
   "cell_type": "code",
   "execution_count": null,
   "metadata": {
    "lines_to_next_cell": 1
   },
   "outputs": [],
   "source": [
    "loc_europe_EU = [\n",
    "\t'Austria', \n",
    "\t'Belgium', \n",
    "\t'Bulgaria', \n",
    "\t'Croatia', \n",
    "\t'Cyprus', \n",
    "\t'Czech Republic', \n",
    "\t'Denmark', \n",
    "\t'Estonia', \n",
    "\t'Finland', \n",
    "\t'France', \n",
    "\t'Germany', \n",
    "\t'Greece', \n",
    "\t'Hungary', \n",
    "\t'Ireland', \n",
    "\t'Italy', \n",
    "\t'Latvia', \n",
    "\t'Lithuania', \n",
    "\t'Luxembourg', \n",
    "\t'Malta', \n",
    "\t'Netherlands', \n",
    "\t'Poland', \n",
    "\t'Portugal', \n",
    "\t'Romania', \n",
    "\t'Slovakia', \n",
    "\t'Slovenia', \n",
    "\t'Spain', \n",
    "\t'Sweden']\n",
    "\n",
    "loc_europe_others = [\n",
    "\t'Norway',\n",
    "\t'United Kingdom',\n",
    "\t'Switzerland']\n",
    "\n",
    "loc_non_europe = [\n",
    "\t'United States',\n",
    "\t'Russia']\n",
    "\n",
    "ACTIVE_COUNTRIES = list(set(loc_europe_EU + loc_europe_others + loc_non_europe))"
   ]
  },
  {
   "cell_type": "code",
   "execution_count": null,
   "metadata": {},
   "outputs": [],
   "source": [
    "def write_to_file(obj, name, ext):\n",
    "    filename = 'data/' + name + '.' + ext\n",
    "    try:\n",
    "        obj.to_excel(filename)\n",
    "    except:\n",
    "        print(\"no folder, creating...\")\n",
    "        # import the os module\n",
    "        import os\n",
    "\n",
    "        # detect the current working directory\n",
    "        path = os.getcwd()\n",
    "        dirpath = path + \"/data\"\n",
    "        print (\"Path to created folder is %s\" % dirpath)\n",
    "        os.mkdir(dirpath)\n",
    "        states.to_excel(filename)"
   ]
  },
  {
   "cell_type": "markdown",
   "metadata": {},
   "source": [
    " Download the dataset from Our World In Data (github rep)"
   ]
  },
  {
   "cell_type": "code",
   "execution_count": null,
   "metadata": {
    "lines_to_next_cell": 1
   },
   "outputs": [],
   "source": [
    "url = 'https://raw.githubusercontent.com/owid/covid-19-data/master/public/data/owid-covid-data.csv'\n",
    "states = pd.read_csv(url,\n",
    "                     usecols=[1,2,3],\n",
    "                     names=['state', 'date', 'positive'],\n",
    "                     header=0,\n",
    "                     parse_dates=['date']).sort_index()\n",
    "states = states[states['state'].isin(ACTIVE_COUNTRIES)]"
   ]
  },
  {
   "cell_type": "code",
   "execution_count": null,
   "metadata": {
    "lines_to_next_cell": 2
   },
   "outputs": [],
   "source": [
    "# fix cumulative negatives in cases\n",
    "\n",
    "# write pre to file for debug\n",
    "#write_to_file(states, 'stan_debug_pre', 'xlsx')\n",
    "\n",
    "def adjust_negatives(states):\n",
    "\n",
    "    p = states.shift(-1)\n",
    "    states.loc[(states.state == p.state) & (states.positive > p.positive), 'positive'] = p.positive\n",
    "    \n",
    "    p = states.shift(-1)\n",
    "    if (((states.state == p.state) & (states.positive > p.positive)).any()):\n",
    "        states = adjust_negatives(states)\n",
    "        return states\n",
    "    else:\n",
    "        return states\n",
    "\n",
    "states = adjust_negatives(states)\n",
    "states.positive = states.positive[states.positive.notnull()].apply(lambda x: int(x))\n",
    "\n",
    "# write post to file for debug\n",
    "#write_to_file(states, 'stan_debug_post', 'xlsx')\n",
    "\n",
    "states = states.set_index(['state', 'date'])\n",
    "states = states.sort_index()"
   ]
  },
  {
   "cell_type": "code",
   "execution_count": null,
   "metadata": {
    "lines_to_next_cell": 1
   },
   "outputs": [],
   "source": [
    "from datetime import datetime as dtime\n",
    "from datetime import timedelta\n",
    "import matplotlib\n",
    "import matplotlib.ticker as ticker\n",
    "\n",
    "date_now = dtime.now()\n",
    "date_then = dtime.now() - timedelta(days=48)\n",
    "\n",
    "rtlive = [\"#5db044\", \"#da5d5d\", \"#ebedf2\", \"#c7cdda\", \"#787a7f\"]\n",
    "sns.set_palette(rtlive)"
   ]
  },
  {
   "cell_type": "code",
   "execution_count": null,
   "metadata": {
    "lines_to_next_cell": 0
   },
   "outputs": [],
   "source": [
    "def plot_graph(fit, ax, state, layout='epiforecasts'):\n",
    "\n",
    "\n",
    "    if layout == 'rtlive':\n",
    "        plot_rtlive_layout(fit, ax, state)\n",
    "    else:\n",
    "        plot_epi_layout(fit, ax, state)\n",
    "    return True"
   ]
  },
  {
   "cell_type": "code",
   "execution_count": null,
   "metadata": {
    "lines_to_next_cell": 0
   },
   "outputs": [],
   "source": [
    "def plot_epi_layout(fit, ax, state):\n",
    "\n",
    "    m = np.median(fit.posterior.Rt, axis=(0,1))\n",
    "    hh = np.percentile(fit.posterior.Rt, 95, axis=(0,1))\n",
    "    h = np.percentile(fit.posterior.Rt, 75, axis=(0,1))\n",
    "    l = np.percentile(fit.posterior.Rt, 25, axis=(0,1))\n",
    "    ll = np.percentile(fit.posterior.Rt, 5, axis=(0,1))\n",
    "\n",
    "    x = fit.posterior.Rt_dates.values\n",
    "    \n",
    "    matplotlib.rc('axes',edgecolor='black')\n",
    "    ax.plot(x, hh, ls='-', marker='', lw=0.6, color=sns.color_palette()[4])\n",
    "    ax.plot(x, ll, ls='-', marker='', lw=0.6, color=sns.color_palette()[4])\n",
    "\n",
    "    ax.fill_between(x, h,hh, color=sns.color_palette()[2])\n",
    "    ax.fill_between(x, ll,l, color=sns.color_palette()[2])\n",
    "    ax.fill_between(x, l, h, color=sns.color_palette()[3])\n",
    "\n",
    "    ax.axhline(1.0, linestyle='dotted', lw=1, color='black')\n",
    "    date_fmt = md.DateFormatter('%b %d')\n",
    "    ax.xaxis.set_major_formatter(date_fmt)\n",
    "    ax.xaxis.set_major_locator(md.DayLocator(interval=7))\n",
    "    ax.yaxis.set_major_locator(ticker.MultipleLocator(1))\n",
    "\n",
    "    plt.setp(ax.xaxis.get_majorticklabels(), rotation=90)\n",
    "\n",
    "    ax.set_title(state, fontsize=13, color='black', family='sans-serif', loc='left', weight='bold')\n",
    "    ax.set_ylabel('Effective Rt', fontsize=11, color='black')\n",
    "    ax.xaxis.label.set_size(10)\n",
    "    ax.xaxis.label.set_color('black')\n",
    "    ax.tick_params(which='both', length=3, color='black', labelcolor='black')\n",
    "    ax.set_xlim([date_then, date_now])\n",
    "\n",
    "    ax.set_ylim(bottom = 0, top = 3, auto = False)\n",
    "    sns.despine()\n",
    "\n",
    "    return True"
   ]
  },
  {
   "cell_type": "code",
   "execution_count": null,
   "metadata": {
    "lines_to_next_cell": 0
   },
   "outputs": [],
   "source": [
    "def plot_rtlive_layout(fit, ax, state):\n",
    "\n",
    "    m = np.median(fit.posterior.Rt, axis=(0,1))\n",
    "    hh = np.percentile(fit.posterior.Rt, 97.5, axis=(0,1))\n",
    "    h = np.percentile(fit.posterior.Rt, 84, axis=(0,1))\n",
    "    l = np.percentile(fit.posterior.Rt, 16, axis=(0,1))\n",
    "    ll = np.percentile(fit.posterior.Rt, 2.5, axis=(0,1))\n",
    "\n",
    "    x = fit.posterior.Rt_dates.values\n",
    "\n",
    "    # NOTE: try this approach instead (filling with NaN):\n",
    "    m_good = m.copy()\n",
    "    m_bad = m.copy()\n",
    "    m_good[m_good > 1.30] = np.nan\n",
    "    m_bad[m_bad <= 0.98] = np.nan\n",
    "\n",
    "    ax.plot(x, m_good, ls='-', marker='', lw=1.5, color=sns.color_palette()[0])\n",
    "    ax.plot(x, m_bad, ls='-', marker='', lw=1.5, color=sns.color_palette()[1])\n",
    "    \n",
    "    ax.fill_between(x, np.where(hh<1, hh, 1) , np.where(ll<1, ll, 1), alpha=0.10, color=sns.color_palette()[0])\n",
    "    ax.fill_between(x, np.where(hh>1, hh, 1) , np.where(ll>1, ll, 1), alpha=0.10, color=sns.color_palette()[1])\n",
    "    \n",
    "    ax.axhline(1.0, linestyle='dotted', lw=1, color='black')\n",
    "    date_fmt = md.DateFormatter('%b %d')\n",
    "    ax.xaxis.set_major_formatter(date_fmt)\n",
    "    ax.xaxis.set_major_locator(md.DayLocator(interval=7))\n",
    "    ax.yaxis.set_major_locator(ticker.MultipleLocator(1))\n",
    "    \n",
    "    plt.setp(ax.xaxis.get_majorticklabels(), rotation=90)\n",
    "    ax.set_title(state, fontsize=18, color='xkcd:dark grey')\n",
    "    ax.set_ylabel('Effective Rt', fontsize=11, color='xkcd:dark grey')\n",
    "    ax.xaxis.label.set_size(10)\n",
    "    ax.tick_params(which='both', length=3)\n",
    "    ax.set_xlim([date_then, date_now])\n",
    "\n",
    "    ax.set_ylim(bottom = 0, top = 3, auto = False)\n",
    "    sns.despine()\n",
    "\n",
    "    return True"
   ]
  },
  {
   "cell_type": "code",
   "execution_count": null,
   "metadata": {
    "lines_to_next_cell": 0
   },
   "outputs": [],
   "source": [
    "def make_title_space(fig, topmargin=1):\n",
    "    s = fig.subplotpars\n",
    "    w, h = fig.get_size_inches()\n",
    "\n",
    "    figh = h - (1-s.top)*h  + topmargin\n",
    "    fig.subplots_adjust(bottom=s.bottom*h/figh, top=1-topmargin/figh)\n",
    "    fig.set_figheight(figh)\n",
    "    return fig"
   ]
  },
  {
   "cell_type": "code",
   "execution_count": null,
   "metadata": {
    "lines_to_next_cell": 1
   },
   "outputs": [],
   "source": [
    "import glob"
   ]
  },
  {
   "cell_type": "code",
   "execution_count": null,
   "metadata": {},
   "outputs": [],
   "source": [
    "def save_state_fits(fits, directory):\n",
    "    try:\n",
    "        os.makedirs(directory)\n",
    "    except OSError:\n",
    "        pass\n",
    "\n",
    "    # clean out old files\n",
    "    files = glob.glob(directory + '/*')\n",
    "    for f in files:\n",
    "        os.remove(f)\n",
    "\n",
    "    for k, f in fits.items():\n",
    "        fname = os.path.join(directory, k + '.nc')\n",
    "        fname_tmp = fname + '.temp'\n",
    "        az.to_netcdf(f, fname_tmp)\n",
    "        os.rename(fname_tmp, fname)\n",
    "\n",
    "def load_state_fits(directory):\n",
    "    fits = {}\n",
    "    for f in glob.glob(os.path.join(directory, '*.nc')):\n",
    "        k = os.path.splitext(os.path.split(f)[1])[0]\n",
    "        fits[k] = az.from_netcdf(f)\n",
    "    return fits"
   ]
  },
  {
   "cell_type": "code",
   "execution_count": null,
   "metadata": {
    "lines_to_next_cell": 2
   },
   "outputs": [],
   "source": [
    "#save_state_fits(state_fits, 'state_fits_EUW')"
   ]
  },
  {
   "cell_type": "code",
   "execution_count": null,
   "metadata": {},
   "outputs": [],
   "source": [
    "from collections import OrderedDict \n",
    "\n",
    "state_fits = load_state_fits('state_fits_EUW')\n",
    "state_fits = OrderedDict(sorted(state_fits.items()))"
   ]
  },
  {
   "cell_type": "code",
   "execution_count": null,
   "metadata": {
    "lines_to_next_cell": 0
   },
   "outputs": [],
   "source": [
    "# set customized palette\n",
    "sns.set_palette(rtlive)"
   ]
  },
  {
   "cell_type": "markdown",
   "metadata": {
    "lines_to_next_cell": 2
   },
   "source": [
    " ### Plot single"
   ]
  },
  {
   "cell_type": "code",
   "execution_count": null,
   "metadata": {},
   "outputs": [],
   "source": [
    "this_state = 'Sweden'\n",
    "fit = state_fits[this_state]\n",
    "fig, ax = plt.subplots(figsize=(7, 3))\n",
    "out = plot_graph(fit, ax, this_state, layout='epiforecasts')"
   ]
  },
  {
   "cell_type": "markdown",
   "metadata": {},
   "source": [
    " ### Plot all"
   ]
  },
  {
   "cell_type": "code",
   "execution_count": null,
   "metadata": {},
   "outputs": [],
   "source": [
    "nc = 5\n",
    "excluded = []\n",
    "out = [state_fits.pop(x, None) for x in excluded]\n",
    "\n",
    "# temporarily limit states for testing purposes, set to 0 for unlimited\n",
    "state_count = 0\n",
    "\n",
    "if state_count != 0:\n",
    "    nr = int(np.ceil(state_count/nc))\n",
    "else:\n",
    "    nr = int(np.ceil(len(state_fits)/nc))\n",
    "\n",
    "fig, axes = plt.subplots(nrows=nr, ncols=nc, figsize=(18, 3*nr))\n",
    "\n",
    "count = 0\n",
    "for idx, ((k,fit), ax) in enumerate(zip(state_fits.items(), axes.flatten())):\n",
    "    \n",
    "    if ((state_count != 0) & (count >= state_count)):\n",
    "        [ax.set_visible(False) for ax in axes.flatten()[idx:]]\n",
    "        break\n",
    "    \n",
    "    out = plot_graph(fit, ax, k, layout = 'epiforecasts')\n",
    "    \n",
    "    count +=1\n",
    "\n",
    "else:\n",
    "    [ax.set_visible(False) for ax in axes.flatten()[idx+1:]]\n",
    "\n",
    "this_date = dtime(2020, 5, 10).strftime('%Y-%m-%d')\n",
    "#this_date = dtime.today().strftime('%Y-%m-%d')\n",
    "fig_title = \"Stan Rt EU+, \" + this_date\n",
    "fig.suptitle(fig_title, y=0.98, fontsize=24, family=\"monospace\", fontweight='bold')\n",
    "fig.set_facecolor('w')\n",
    "plt.subplots_adjust(left=0.10, right=0.95, hspace=0.80, wspace=0.25)\n",
    "\n",
    "fig = make_title_space(fig, topmargin=1.8)\n",
    "\n",
    "# -- option to save graph -- #\n",
    "# imgdir = 'images/'\n",
    "# fname = 'Stan R0 EUW 2020-05-10.png'\n",
    "# fpath = imgdir + fname\n",
    "# plt.savefig(fpath, dpi=150, facecolor='w', edgecolor='w', \n",
    "#             format=None, transparent=False, \n",
    "#             bbox_inches=None, pad_inches=0.0,\n",
    "#             frameon=None, metadata=None)"
   ]
  },
  {
   "cell_type": "code",
   "execution_count": null,
   "metadata": {},
   "outputs": [],
   "source": [
    "# reset to orig palette\n",
    "sns.set_palette('colorblind')"
   ]
  },
  {
   "cell_type": "markdown",
   "metadata": {},
   "source": [
    "Here is a nice plot that shows the distribution of $R_t$ at the latest day of sampling, ordered by its median value:"
   ]
  },
  {
   "cell_type": "code",
   "execution_count": null,
   "metadata": {},
   "outputs": [],
   "source": [
    "nc = 4\n",
    "nd = 1000\n",
    "\n",
    "d = {'state': [], 'Rt': []}\n",
    "for k, f in state_fits.items():\n",
    "    d = {'state': np.concatenate((d['state'], (k,)*(nc*nd))), \n",
    "         'Rt': np.concatenate((d['Rt'], f.posterior.Rt[:,:,-1].values.flatten()))}\n",
    "df = pd.DataFrame(d)\n",
    "\n",
    "sort_Rts = [np.median(fit.posterior.Rt[:,:,-1]) for fit in state_fits.values()]\n",
    "state_order = np.array(list(state_fits.keys()))[np.argsort(sort_Rts)]"
   ]
  },
  {
   "cell_type": "markdown",
   "metadata": {},
   "source": [
    "Compare to http://rt.live:"
   ]
  },
  {
   "cell_type": "code",
   "execution_count": null,
   "metadata": {},
   "outputs": [],
   "source": [
    "plt.figure(figsize=(24,4))\n",
    "sns.boxplot(x='state', y='Rt', data=df, order=state_order, fliersize=0, whis=1.0/1.35, )\n",
    "plt.axhline(1, color='k')\n",
    "plt.xticks(rotation=90)\n",
    "out = plt.axis(ymin=0, ymax=2.5)"
   ]
  },
  {
   "cell_type": "markdown",
   "metadata": {},
   "source": [
    "Should check in on this model for $\\tau$---in the states where it is well-measured, we favor a slightly smaller $\\tau$ than the default prior.  Might be worth building a hierarchical model to re-infer $\\tau$ from the national data....  Black line is the prior."
   ]
  },
  {
   "cell_type": "code",
   "execution_count": null,
   "metadata": {},
   "outputs": [],
   "source": [
    "with sns.color_palette('husl', n_colors=len(state_fits)):\n",
    "    for f in state_fits.values():\n",
    "        sns.kdeplot(f.posterior.tau.values.flatten())\n",
    "xs = np.linspace(0, 20, 1024)\n",
    "plt.plot(xs, ss.lognorm(0.57, scale=np.exp(1.4)).pdf(xs), color='k')\n",
    "plt.axis(xmin=0,xmax=12)\n",
    "\n",
    "out = plt.xlabel(r'$\\tau$ ($\\mathrm{d}$)')\n",
    "\n"
   ]
  },
  {
   "cell_type": "code",
   "execution_count": null,
   "metadata": {},
   "outputs": [],
   "source": []
  }
 ],
 "metadata": {
  "kernelspec": {
   "display_name": "Python 3",
   "language": "python",
   "name": "python3"
  },
  "language_info": {
   "codemirror_mode": {
    "name": "ipython",
    "version": 3
   },
   "file_extension": ".py",
   "mimetype": "text/x-python",
   "name": "python",
   "nbconvert_exporter": "python",
   "pygments_lexer": "ipython3",
   "version": "3.7.6"
  }
 },
 "nbformat": 4,
 "nbformat_minor": 4
}
