{
 "cells": [
  {
   "cell_type": "code",
   "execution_count": null,
   "metadata": {
    "lines_to_next_cell": 0
   },
   "outputs": [],
   "source": [
    "from IPython import get_ipython"
   ]
  },
  {
   "cell_type": "markdown",
   "metadata": {},
   "source": [
    "# Work file for plot"
   ]
  },
  {
   "cell_type": "code",
   "execution_count": null,
   "metadata": {},
   "outputs": [],
   "source": [
    "%config InlineBackend.figure_format = 'retina'\n",
    "%qtconsole"
   ]
  },
  {
   "cell_type": "code",
   "execution_count": null,
   "metadata": {},
   "outputs": [],
   "source": [
    "import arviz as az\n",
    "import datetime\n",
    "import matplotlib\n",
    "import matplotlib.dates as md\n",
    "import os\n",
    "import os.path\n",
    "import pandas as pd\n",
    "import pystan\n",
    "import scipy.stats as ss\n",
    "import seaborn as sns\n",
    "from tqdm import tqdm\n",
    "import numpy as np\n",
    "from matplotlib import pyplot as plt\n",
    "sns.set_context('notebook')\n",
    "sns.set_palette('colorblind')"
   ]
  },
  {
   "cell_type": "code",
   "execution_count": null,
   "metadata": {
    "lines_to_next_cell": 1
   },
   "outputs": [],
   "source": [
    "loc_europe_EU = [\n",
    "\t'Austria', \n",
    "\t'Belgium', \n",
    "\t'Bulgaria', \n",
    "\t'Croatia', \n",
    "\t'Cyprus', \n",
    "\t'Czech Republic', \n",
    "\t'Denmark', \n",
    "\t'Estonia', \n",
    "\t'Finland', \n",
    "\t'France', \n",
    "\t'Germany', \n",
    "\t'Greece', \n",
    "\t'Hungary', \n",
    "\t'Ireland', \n",
    "\t'Italy', \n",
    "\t'Latvia', \n",
    "\t'Lithuania', \n",
    "\t'Luxembourg', \n",
    "\t'Malta', \n",
    "\t'Netherlands', \n",
    "\t'Poland', \n",
    "\t'Portugal', \n",
    "\t'Romania', \n",
    "\t'Slovakia', \n",
    "\t'Slovenia', \n",
    "\t'Spain', \n",
    "\t'Sweden']\n",
    "\n",
    "loc_europe_others = [\n",
    "\t'Norway',\n",
    "\t'United Kingdom',\n",
    "\t'Switzerland']\n",
    "\n",
    "loc_non_europe = [\n",
    "\t'United States',\n",
    "\t'Russia']\n",
    "\n",
    "ACTIVE_COUNTRIES = list(set(loc_europe_EU + loc_europe_others + loc_non_europe))"
   ]
  },
  {
   "cell_type": "code",
   "execution_count": null,
   "metadata": {},
   "outputs": [],
   "source": [
    "def write_to_file(obj, name, ext):\n",
    "    filename = 'data/' + name + '.' + ext\n",
    "    try:\n",
    "        obj.to_excel(filename)\n",
    "    except:\n",
    "        print(\"no folder, creating...\")\n",
    "        # import the os module\n",
    "        import os\n",
    "\n",
    "        # detect the current working directory\n",
    "        path = os.getcwd()\n",
    "        dirpath = path + \"/data\"\n",
    "        print (\"Path to created folder is %s\" % dirpath)\n",
    "        os.mkdir(dirpath)\n",
    "        states.to_excel(filename)"
   ]
  },
  {
   "cell_type": "markdown",
   "metadata": {},
   "source": [
    " Download the dataset from Our World In Data (github rep)"
   ]
  },
  {
   "cell_type": "code",
   "execution_count": null,
   "metadata": {
    "lines_to_next_cell": 2
   },
   "outputs": [],
   "source": [
    "url = 'https://raw.githubusercontent.com/owid/covid-19-data/master/public/data/owid-covid-data.csv'\n",
    "states = pd.read_csv(url,\n",
    "                     usecols=[1,2,3],\n",
    "                     names=['state', 'date', 'positive'],\n",
    "                     header=0,\n",
    "                     parse_dates=['date']).sort_index()\n",
    "states = states[states['state'].isin(ACTIVE_COUNTRIES)]\n",
    "\n",
    "# write to file\n",
    "write_to_file(states, 'stan_debug_pre', 'xlsx')\n",
    "\n",
    "# fix cumulative negatives in cases\n",
    "def adjust_negatives(states):\n",
    "\n",
    "    p = states.shift(-1)\n",
    "    states.loc[(states.state == p.state) & (states.positive > p.positive), 'positive'] = p.positive\n",
    "    \n",
    "    p = states.shift(-1)\n",
    "    if (((states.state == p.state) & (states.positive > p.positive)).any()):\n",
    "        states = adjust_negatives(states)\n",
    "        return states\n",
    "    else:\n",
    "        return states\n",
    "\n",
    "states = adjust_negatives(states)\n",
    "states.positive = states.positive.apply(lambda x: int(x))\n",
    "\n",
    "# write to file\n",
    "write_to_file(states, 'stan_debug_post', 'xlsx')\n",
    "\n",
    "states = states.set_index(['state', 'date'])\n",
    "states = states.sort_index()"
   ]
  },
  {
   "cell_type": "code",
   "execution_count": null,
   "metadata": {},
   "outputs": [],
   "source": [
    "# customized layout\n",
    "\n",
    "from datetime import datetime as dtime\n",
    "from datetime import timedelta\n",
    "\n",
    "date_now = dtime.now()\n",
    "date_then = dtime.now() - timedelta(days=48)\n",
    "\n",
    "rtlive = [\"#5db044\", \"#da5d5d\", \"#95a5a6\", \"#e74c3c\", \"#34495e\"]\n",
    "sns.set_palette(rtlive)"
   ]
  },
  {
   "cell_type": "code",
   "execution_count": null,
   "metadata": {
    "lines_to_next_cell": 1
   },
   "outputs": [],
   "source": [
    "def plot_graph(fit, ax, state, single=False):\n",
    "\n",
    "    m = np.median(fit.posterior.Rt, axis=(0,1))\n",
    "    hh = np.percentile(fit.posterior.Rt, 97.5, axis=(0,1))\n",
    "    h = np.percentile(fit.posterior.Rt, 84, axis=(0,1))\n",
    "    l = np.percentile(fit.posterior.Rt, 16, axis=(0,1))\n",
    "    ll = np.percentile(fit.posterior.Rt, 2.5, axis=(0,1))\n",
    "\n",
    "    x = fit.posterior.Rt_dates.values\n",
    "    line_1 = np.ones(len(x))\n",
    "\n",
    "    # NOTE: try this approach instead (filling with NaN):\n",
    "    m_good = m.copy()\n",
    "    m_bad = m.copy()\n",
    "    m_good[m_good > 1.30] = np.nan\n",
    "    m_bad[m_bad <= 0.98] = np.nan\n",
    "\n",
    "    ax.plot(x, m_good, ls='-', marker='', lw=1.5, color=sns.color_palette()[0])\n",
    "    ax.plot(x, m_bad, ls='-', marker='', lw=1.5, color=sns.color_palette()[1])\n",
    "    \n",
    "    ax.fill_between(x, np.where(hh<1, hh, 1) , np.where(ll<1, ll, 1), alpha=0.10, color=sns.color_palette()[0])\n",
    "    ax.fill_between(x, np.where(hh>1, hh, 1) , np.where(ll>1, ll, 1), alpha=0.10, color=sns.color_palette()[1])\n",
    "    \n",
    "    ax.plot(x, line_1, ls='dotted', color = sns.xkcd_rgb[\"light grey\"], lw=3)\n",
    "\n",
    "    if single:\n",
    "        plt.setp(ax.xaxis.get_majorticklabels(), rotation=45)\n",
    "    else:\n",
    "        date_fmt = md.DateFormatter('%m-%d')\n",
    "        ax.xaxis.set_major_formatter(date_fmt)\n",
    "    \n",
    "    ax.set_title(state, fontsize=18, color='xkcd:dark grey')\n",
    "    ax.set_ylabel(r'$R_t$')\n",
    "\n",
    "    ax.set_xlim([date_then, date_now])\n",
    "\n",
    "    ax.set_ylim(bottom = 0,\n",
    "                top = 3,\n",
    "                auto = False)\n",
    "    sns.despine()\n",
    "\n",
    "    return True"
   ]
  },
  {
   "cell_type": "code",
   "execution_count": null,
   "metadata": {
    "lines_to_next_cell": 1
   },
   "outputs": [],
   "source": [
    "import glob"
   ]
  },
  {
   "cell_type": "code",
   "execution_count": null,
   "metadata": {},
   "outputs": [],
   "source": [
    "def save_state_fits(fits, directory):\n",
    "    try:\n",
    "        os.makedirs(directory)\n",
    "    except OSError:\n",
    "        pass\n",
    "\n",
    "    # clean out old files\n",
    "    files = glob.glob(directory + '/*')\n",
    "    for f in files:\n",
    "        os.remove(f)\n",
    "\n",
    "    for k, f in fits.items():\n",
    "        fname = os.path.join(directory, k + '.nc')\n",
    "        fname_tmp = fname + '.temp'\n",
    "        az.to_netcdf(f, fname_tmp)\n",
    "        os.rename(fname_tmp, fname)\n",
    "\n",
    "def load_state_fits(directory):\n",
    "    fits = {}\n",
    "    for f in glob.glob(os.path.join(directory, '*.nc')):\n",
    "        k = os.path.splitext(os.path.split(f)[1])[0]\n",
    "        fits[k] = az.from_netcdf(f)\n",
    "    return fits"
   ]
  },
  {
   "cell_type": "code",
   "execution_count": null,
   "metadata": {
    "lines_to_next_cell": 2
   },
   "outputs": [],
   "source": [
    "#save_state_fits(state_fits, 'state_fits_EUW')"
   ]
  },
  {
   "cell_type": "code",
   "execution_count": null,
   "metadata": {},
   "outputs": [],
   "source": [
    "from collections import OrderedDict \n",
    "\n",
    "state_fits = load_state_fits('state_fits_EUW')\n",
    "state_fits = OrderedDict(sorted(state_fits.items()))"
   ]
  },
  {
   "cell_type": "code",
   "execution_count": null,
   "metadata": {},
   "outputs": [],
   "source": [
    "# set customized palette\n",
    "sns.set_palette(rtlive)"
   ]
  },
  {
   "cell_type": "markdown",
   "metadata": {
    "lines_to_next_cell": 2
   },
   "source": [
    " ### Plot single"
   ]
  },
  {
   "cell_type": "code",
   "execution_count": null,
   "metadata": {},
   "outputs": [],
   "source": [
    "one_state = 'Sweden'\n",
    "fit = state_fits[one_state]\n",
    "fig, ax = plt.subplots()\n",
    "out = plot_graph(fit, ax, one_state, single=True)"
   ]
  },
  {
   "cell_type": "markdown",
   "metadata": {},
   "source": [
    " ### Plot all"
   ]
  },
  {
   "cell_type": "code",
   "execution_count": null,
   "metadata": {},
   "outputs": [],
   "source": [
    "nc = 3\n",
    "nr = 11\n",
    "excluded = ['Slovenia']\n",
    "out = [state_fits.pop(x, None) for x in excluded]\n",
    "\n",
    "# temporarily limit states for testing purposes, set to 0 for unlimited\n",
    "state_count = 0\n",
    "\n",
    "fig, axes = plt.subplots(nrows=nr, ncols=nc, figsize=(24, 5*nr))\n",
    "\n",
    "count = 0;\n",
    "for idx, ((k,fit), ax) in enumerate(zip(state_fits.items(), axes.flatten())):\n",
    "    \n",
    "    if ((state_count != 0) & (count >= state_count)):\n",
    "        [ax.set_visible(False) for ax in axes.flatten()[idx:]]\n",
    "        break\n",
    "    \n",
    "    out = plot_graph(fit, ax, k)\n",
    "    \n",
    "    count +=1\n",
    "\n",
    "else:\n",
    "    [ax.set_visible(False) for ax in axes.flatten()[idx+1:]]\n",
    "\n",
    "plt.subplots_adjust(top=0.92, bottom=0.08, left=0.10, right=0.95, hspace=0.30, wspace=0.25)"
   ]
  },
  {
   "cell_type": "code",
   "execution_count": null,
   "metadata": {},
   "outputs": [],
   "source": [
    "# reset to orig palette\n",
    "sns.set_palette('colorblind')"
   ]
  },
  {
   "cell_type": "markdown",
   "metadata": {},
   "source": [
    "Here is a nice plot that shows the distribution of $R_t$ at the latest day of sampling, ordered by its median value:"
   ]
  },
  {
   "cell_type": "code",
   "execution_count": null,
   "metadata": {},
   "outputs": [],
   "source": [
    "nc = 4\n",
    "nd = 1000\n",
    "\n",
    "d = {'state': [], 'Rt': []}\n",
    "for k, f in state_fits.items():\n",
    "    d = {'state': np.concatenate((d['state'], (k,)*(nc*nd))), \n",
    "         'Rt': np.concatenate((d['Rt'], f.posterior.Rt[:,:,-1].values.flatten()))}\n",
    "df = pd.DataFrame(d)\n",
    "\n",
    "sort_Rts = [np.median(fit.posterior.Rt[:,:,-1]) for fit in state_fits.values()]\n",
    "state_order = np.array(list(state_fits.keys()))[np.argsort(sort_Rts)]"
   ]
  },
  {
   "cell_type": "markdown",
   "metadata": {},
   "source": [
    "Compare to http://rt.live:"
   ]
  },
  {
   "cell_type": "code",
   "execution_count": null,
   "metadata": {},
   "outputs": [],
   "source": [
    "plt.figure(figsize=(24,4))\n",
    "sns.boxplot(x='state', y='Rt', data=df, order=state_order, fliersize=0, whis=1.0/1.35, )\n",
    "plt.axhline(1, color='k')\n",
    "plt.xticks(rotation=90)\n",
    "out = plt.axis(ymin=0, ymax=2.5)"
   ]
  },
  {
   "cell_type": "markdown",
   "metadata": {},
   "source": [
    "Should check in on this model for $\\tau$---in the states where it is well-measured, we favor a slightly smaller $\\tau$ than the default prior.  Might be worth building a hierarchical model to re-infer $\\tau$ from the national data....  Black line is the prior."
   ]
  },
  {
   "cell_type": "code",
   "execution_count": null,
   "metadata": {},
   "outputs": [],
   "source": [
    "with sns.color_palette('husl', n_colors=len(state_fits)):\n",
    "    for f in state_fits.values():\n",
    "        sns.kdeplot(f.posterior.tau.values.flatten())\n",
    "xs = np.linspace(0, 20, 1024)\n",
    "plt.plot(xs, ss.lognorm(0.57, scale=np.exp(1.4)).pdf(xs), color='k')\n",
    "plt.axis(xmin=0,xmax=12)\n",
    "\n",
    "out = plt.xlabel(r'$\\tau$ ($\\mathrm{d}$)')\n",
    "\n"
   ]
  },
  {
   "cell_type": "code",
   "execution_count": null,
   "metadata": {},
   "outputs": [],
   "source": []
  }
 ],
 "metadata": {
  "kernelspec": {
   "display_name": "Python 3",
   "language": "python",
   "name": "python3"
  },
  "language_info": {
   "codemirror_mode": {
    "name": "ipython",
    "version": 3
   },
   "file_extension": ".py",
   "mimetype": "text/x-python",
   "name": "python",
   "nbconvert_exporter": "python",
   "pygments_lexer": "ipython3",
   "version": "3.7.6"
  }
 },
 "nbformat": 4,
 "nbformat_minor": 4
}
